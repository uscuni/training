{
 "cells": [
  {
   "cell_type": "code",
   "execution_count": 3,
   "id": "48cee7a9-938d-442f-be4c-78f7855bf045",
   "metadata": {},
   "outputs": [
    {
     "name": "stdout",
     "output_type": "stream",
     "text": [
      "\n",
      "SYSTEM INFO\n",
      "-----------\n",
      "python     : 3.9.19 | packaged by conda-forge | (main, Mar 20 2024, 12:50:21)  [GCC 12.3.0]\n",
      "executable : /opt/conda/envs/uscuni/bin/python\n",
      "machine    : Linux-6.5.0-35-generic-x86_64-with-glibc2.35\n",
      "\n",
      "GEOS, GDAL, PROJ INFO\n",
      "---------------------\n",
      "GEOS       : 3.12.1\n",
      "GEOS lib   : None\n",
      "GDAL       : 3.8.5\n",
      "GDAL data dir: /opt/conda/envs/uscuni/share/gdal\n",
      "PROJ       : 9.4.0\n",
      "PROJ data dir: /opt/conda/envs/uscuni/share/proj\n",
      "\n",
      "PYTHON DEPENDENCIES\n",
      "-------------------\n",
      "geopandas  : 0.14.4\n",
      "numpy      : 1.26.4\n",
      "pandas     : 2.2.2\n",
      "pyproj     : 3.6.1\n",
      "shapely    : 2.0.4\n",
      "fiona      : 1.9.6\n",
      "geoalchemy2: 0.14.7\n",
      "geopy      : 2.4.1\n",
      "matplotlib : 3.8.4\n",
      "mapclassify: 2.6.1\n",
      "pygeos     : None\n",
      "pyogrio    : 0.8.0\n",
      "psycopg2   : 2.9.9 (dt dec pq3 ext lo64)\n",
      "pyarrow    : 16.1.0\n",
      "rtree      : 1.2.0\n"
     ]
    }
   ],
   "source": [
    "import geopandas\n",
    "geopandas.show_versions()"
   ]
  },
  {
   "cell_type": "code",
   "execution_count": 4,
   "id": "bb3763f6-60b0-41ef-ba7f-f7af040b1128",
   "metadata": {},
   "outputs": [
    {
     "data": {
      "text/plain": [
       "'24.6'"
      ]
     },
     "execution_count": 4,
     "metadata": {},
     "output_type": "execute_result"
    }
   ],
   "source": [
    "import os\n",
    "os.getenv(\"DOCKER_ENV_VERSION\")"
   ]
  },
  {
   "cell_type": "code",
   "execution_count": null,
   "id": "aa795323-c909-49ca-99ac-af52fa716245",
   "metadata": {},
   "outputs": [],
   "source": []
  }
 ],
 "metadata": {
  "kernelspec": {
   "display_name": "uscuni-24.6",
   "language": "python",
   "name": "uscuni"
  },
  "language_info": {
   "codemirror_mode": {
    "name": "ipython",
    "version": 3
   },
   "file_extension": ".py",
   "mimetype": "text/x-python",
   "name": "python",
   "nbconvert_exporter": "python",
   "pygments_lexer": "ipython3",
   "version": "3.9.19"
  }
 },
 "nbformat": 4,
 "nbformat_minor": 5
}
